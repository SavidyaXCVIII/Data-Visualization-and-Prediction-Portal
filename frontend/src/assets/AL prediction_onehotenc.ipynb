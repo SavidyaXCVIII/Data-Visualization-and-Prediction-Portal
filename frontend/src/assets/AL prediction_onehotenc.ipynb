{
 "cells": [
  {
   "cell_type": "code",
   "execution_count": 1,
   "metadata": {},
   "outputs": [],
   "source": [
    "import pandas as pd\n",
    "import matplotlib.pyplot as plt\n",
    "from pandas.plotting import scatter_matrix\n",
    "import numpy as np\n",
    "from sklearn import linear_model\n",
    "from sklearn.metrics import mean_squared_error, r2_score\n",
    "from sklearn.linear_model import LinearRegression\n",
    "from sklearn.preprocessing import OneHotEncoder\n",
    "import statsmodels.api as sm\n",
    "from scipy import stats\n",
    "from sklearn import preprocessing\n",
    "from sklearn.model_selection import train_test_split\n",
    "from sklearn.preprocessing import OneHotEncoder\n",
    "from sklearn.compose import ColumnTransformer\n",
    "%matplotlib inline"
   ]
  },
  {
   "cell_type": "markdown",
   "metadata": {},
   "source": [
    "Load Data\n",
    "===="
   ]
  },
  {
   "cell_type": "code",
   "execution_count": 2,
   "metadata": {},
   "outputs": [],
   "source": [
    "al_performance_2015 = pd.read_csv(\"2015_AL.csv\").set_index(\"District\")\n",
    "al_performance_2016 = pd.read_csv(\"2016_AL.csv\").set_index(\"District\")\n",
    "al_performance_2017 = pd.read_csv(\"2017_AL.csv\").set_index(\"District\")\n",
    "al_performance_2018 = pd.read_csv(\"2018_AL.csv\").set_index(\"District\")\n",
    "\n",
    "\n",
    "ol_performance_2016 = pd.read_csv(\"ol_failed_2016.csv\").set_index(\"District\")\n",
    "ol_performance_2017 = pd.read_csv(\"ol_failed_2017.csv\").set_index(\"District\")\n",
    "\n",
    "school_by_func_grade_2016= pd.read_csv(\"schools_by_func_grade_2016.csv\").set_index(\"District\")\n",
    "school_by_func_grade_2017= pd.read_csv(\"schools_by_func_grade_2017.csv\").set_index(\"District\")\n",
    "\n",
    "school_by_func_grade_2016['1AB'] = school_by_func_grade_2016['1AB']/school_by_func_grade_2016['Total']\n",
    "school_by_func_grade_2016['1C'] = school_by_func_grade_2016['1C']/school_by_func_grade_2016['Total']\n",
    "school_by_func_grade_2016['Type 2'] = school_by_func_grade_2016['Type 2']/school_by_func_grade_2016['Total']\n",
    "school_by_func_grade_2016['Type 3'] = school_by_func_grade_2016['Type 3']/school_by_func_grade_2016['Total']\n",
    "\n",
    "school_by_func_grade_2017['1AB'] = school_by_func_grade_2017['1AB']/school_by_func_grade_2017['Total']\n",
    "school_by_func_grade_2017['1C'] = school_by_func_grade_2017['1C']/school_by_func_grade_2017['Total']\n",
    "school_by_func_grade_2017['Type 2'] = school_by_func_grade_2017['Type 2']/school_by_func_grade_2017['Total']\n",
    "school_by_func_grade_2017['Type 3'] = school_by_func_grade_2017['Type 3']/school_by_func_grade_2017['Total']\n",
    "\n",
    "al_perf_with_demographics_2016 = al_performance_2016\\\n",
    "    .merge(school_by_func_grade_2016, left_index=True, right_index=True)\\\n",
    "    .merge(ol_performance_2016, left_index=True, right_index=True)\n",
    "\n",
    "al_perf_with_demographics_2017 = al_performance_2017\\\n",
    "    .merge(school_by_func_grade_2017, left_index=True, right_index=True)\\\n",
    "    .merge(ol_performance_2017, left_index=True, right_index=True)\n",
    "\n",
    "           "
   ]
  },
  {
   "cell_type": "markdown",
   "metadata": {},
   "source": [
    "Linear Regression\n",
    "======\n",
    "Train on 2016, test on 2017\n",
    "\n",
    "Only with demographic and past year results"
   ]
  },
  {
   "cell_type": "code",
   "execution_count": 3,
   "metadata": {},
   "outputs": [
    {
     "name": "stdout",
     "output_type": "stream",
     "text": [
      "0.6971139573440708\n"
     ]
    }
   ],
   "source": [
    "\n",
    "df_2016 = al_perf_with_demographics_2016\n",
    "cols = [\"prev_pass_all_perc\",\"prev_fail_all_perc\",  '1AB', '1C', 'Type 2', 'Type 3', \"ol_qualified_for_al_perc\", \"ol_failed_all_perc\"]\n",
    "X = df_2016[cols]\n",
    "Y = df_2016[\"pass_all_perc\"]\n",
    "regr = linear_model.LinearRegression(normalize=True)\n",
    "\n",
    "regr.fit(X, Y)\n",
    "pred = regr.predict(X)\n",
    "r_sq = regr.score(X, Y)\n",
    "print(r_sq)\n"
   ]
  },
  {
   "cell_type": "code",
   "execution_count": 4,
   "metadata": {},
   "outputs": [
    {
     "name": "stdout",
     "output_type": "stream",
     "text": [
      "-0.11903639781811748\n"
     ]
    }
   ],
   "source": [
    "df_2017 =al_perf_with_demographics_2017\n",
    "x2 = df_2017[cols]\n",
    "y2 = df_2017[\"pass_all_perc\"]\n",
    "\n",
    "print(regr.score(x2,y2))"
   ]
  },
  {
   "cell_type": "markdown",
   "metadata": {},
   "source": [
    "This is due to lack of data, making the model overfit to the given small amount.\n"
   ]
  },
  {
   "cell_type": "markdown",
   "metadata": {},
   "source": [
    "With District included as one-hot-encoding\n",
    "====="
   ]
  },
  {
   "cell_type": "code",
   "execution_count": 5,
   "metadata": {},
   "outputs": [],
   "source": [
    "district_enc = OneHotEncoder()\n",
    "district_enc.fit(al_perf_with_demographics_2016.index.values[:, None])\n",
    "district_col_names = list(district_enc.categories_[0])"
   ]
  },
  {
   "cell_type": "code",
   "execution_count": 6,
   "metadata": {},
   "outputs": [],
   "source": [
    "df_2016 = al_perf_with_demographics_2016.reset_index() #Remove district from index and add it as a normal column\n",
    "d = district_enc.transform(df_2016['District'].values[:, None]).todense() # Convert district names to one-hot-matrix\n",
    "df_district_onehot = pd.DataFrame(data=d, columns=district_col_names)\n",
    "\n",
    "df_2016 = pd.concat([df_2016, df_district_onehot], axis=1) # Combine two dataframes\n",
    "\n",
    "\n",
    "df_2017 = al_perf_with_demographics_2017.reset_index() #Remove district from index and add it as a normal column\n",
    "d = district_enc.transform(df_2017['District'].values[:, None]).todense() # Convert district names to one-hot-matrix\n",
    "df_district_onehot = pd.DataFrame(data=d, columns=district_col_names)\n",
    "\n",
    "df_2017 = pd.concat([df_2017, df_district_onehot], axis=1) # Combine two dataframes\n"
   ]
  },
  {
   "cell_type": "code",
   "execution_count": 7,
   "metadata": {},
   "outputs": [
    {
     "name": "stdout",
     "output_type": "stream",
     "text": [
      "1.0\n"
     ]
    }
   ],
   "source": [
    "cols = district_col_names + [\"prev_pass_all_perc\",\"prev_fail_all_perc\",  '1AB', '1C', 'Type 2', 'Type 3', \"ol_qualified_for_al_perc\", \"ol_failed_all_perc\"]\n",
    "X = df_2016[cols]\n",
    "Y = df_2016[\"pass_all_perc\"]\n",
    "regr = linear_model.LinearRegression(normalize=True)\n",
    "\n",
    "regr.fit(X, Y)\n",
    "pred = regr.predict(X)\n",
    "r_sq = regr.score(X, Y)\n",
    "print(r_sq)"
   ]
  },
  {
   "cell_type": "markdown",
   "metadata": {},
   "source": [
    "Just doing it for one year will overfit"
   ]
  },
  {
   "cell_type": "code",
   "execution_count": 8,
   "metadata": {},
   "outputs": [
    {
     "name": "stdout",
     "output_type": "stream",
     "text": [
      "-0.6978612284520458\n"
     ]
    }
   ],
   "source": [
    "\n",
    "x2 = df_2017[cols]\n",
    "y2 = df_2017[\"pass_all_perc\"]\n",
    "\n",
    "print(regr.score(x2,y2))"
   ]
  },
  {
   "cell_type": "markdown",
   "metadata": {},
   "source": [
    "And the predictions are bad"
   ]
  },
  {
   "cell_type": "markdown",
   "metadata": {},
   "source": [
    "With multiple years\n",
    "===="
   ]
  },
  {
   "cell_type": "code",
   "execution_count": 9,
   "metadata": {},
   "outputs": [],
   "source": [
    "df_2016_2017 = pd.concat([al_perf_with_demographics_2016, al_perf_with_demographics_2017])\n",
    "df_2016_2017 = df_2016_2017.reset_index()\n",
    "d = district_enc.transform(df_2016_2017['District'].values[:, None]).todense() # Convert district names to one-hot-matrix\n",
    "df_district_onehot = pd.DataFrame(data=d, columns=district_col_names)\n",
    "\n",
    "df_2016_2017 = pd.concat([df_2016_2017, df_district_onehot], axis=1)\n"
   ]
  },
  {
   "cell_type": "code",
   "execution_count": 10,
   "metadata": {},
   "outputs": [
    {
     "name": "stdout",
     "output_type": "stream",
     "text": [
      "0.9407664405283351\n"
     ]
    }
   ],
   "source": [
    "cols = district_col_names + [\"prev_pass_all_perc\",\"prev_fail_all_perc\",  '1AB', '1C', 'Type 2', 'Type 3', \"ol_qualified_for_al_perc\", \"ol_failed_all_perc\"]\n",
    "X = df_2016_2017[cols]\n",
    "Y = df_2016_2017[\"fail_all_perc\"]\n",
    "regr = linear_model.LinearRegression(normalize=True)\n",
    "regr.fit(X, Y)\n",
    "pred = regr.predict(X)\n",
    "r_sq = regr.score(X,Y)\n",
    "print(r_sq)\n",
    "\n"
   ]
  },
  {
   "cell_type": "markdown",
   "metadata": {},
   "source": [
    "When trained with multiple years the accuracy improves for the given years"
   ]
  },
  {
   "cell_type": "code",
   "execution_count": 11,
   "metadata": {},
   "outputs": [
    {
     "name": "stdout",
     "output_type": "stream",
     "text": [
      "0.9369169053704236\n",
      "0.9435632655386507\n"
     ]
    }
   ],
   "source": [
    "\n",
    "x2 = df_2016[cols]\n",
    "y2 = df_2016[\"fail_all_perc\"]\n",
    "\n",
    "x3 = df_2017[cols]\n",
    "y3 = df_2017[\"fail_all_perc\"]\n",
    "print(regr.score(x2,y2))\n",
    "print(regr.score(x3,y3))"
   ]
  },
  {
   "cell_type": "markdown",
   "metadata": {},
   "source": [
    "This seems to fit well, when tested with a data that was already included in the train set. \n"
   ]
  },
  {
   "cell_type": "markdown",
   "metadata": {},
   "source": [
    "# The following model is trained only using past results and no demographical data is used to train the model\n"
   ]
  },
  {
   "cell_type": "code",
   "execution_count": 12,
   "metadata": {},
   "outputs": [
    {
     "name": "stdout",
     "output_type": "stream",
     "text": [
      "0.5442729152515344\n",
      "0.6045777904086118\n"
     ]
    }
   ],
   "source": [
    "df_new = pd.read_csv(\"2015_to_2018_AL.csv\")\n",
    "\n",
    "df_new\n",
    "x1 = df_new[[\"num_sat\",\"fail_all\",\"fail_all_perc\"]]\n",
    "y1 = df_new[[\"pass_all_perc\"]]\n",
    "\n",
    "regr2 = linear_model.LinearRegression(normalize=True)\n",
    "regr2.fit(x1,y1)             #trains model with data of AL number of students sat, failed students and failed perc from 2015-2018\n",
    "print(regr2.score(x1,y1))\n",
    "df_2016 = al_perf_with_demographics_2016\n",
    "x3 = df_2016[[\"num_sat\",\"fail_all\",\"fail_all_perc\"]]\n",
    "y3 = df_2016[[\"pass_all_perc\"]]\n",
    "print(regr2.score(x3,y3))"
   ]
  },
  {
   "cell_type": "code",
   "execution_count": 13,
   "metadata": {},
   "outputs": [
    {
     "name": "stdout",
     "output_type": "stream",
     "text": [
      "0.5983124317773196\n",
      "0.22936080312115115\n"
     ]
    }
   ],
   "source": [
    "df_new = pd.read_csv(\"2015_to_2018_AL_func.csv\")\n",
    "\n",
    "df_new\n",
    "x1 = df_new[[\"num_sat\",\"fail_all\",\"fail_all_perc\",\"1AB\",\"1C\",\"Type 2\",\"Type 3\"]]\n",
    "y1 = df_new[[\"pass_all_perc\"]]\n",
    "\n",
    "regr3 = linear_model.LinearRegression(normalize=True)\n",
    "regr3.fit(x1,y1)\n",
    "print(regr3.score(x1,y1))\n",
    "df_2016 = al_perf_with_demographics_2016\n",
    "x3 = df_2016[[\"num_sat\",\"fail_all\",\"fail_all_perc\",\"1AB\",\"1C\",\"Type 2\",\"Type 3\"]]\n",
    "y3 = df_2016[[\"pass_all_perc\"]]\n",
    "print(regr3.score(x3,y3))"
   ]
  },
  {
   "cell_type": "code",
   "execution_count": 14,
   "metadata": {},
   "outputs": [
    {
     "name": "stderr",
     "output_type": "stream",
     "text": [
      "C:\\Users\\Randika\\Anaconda3\\lib\\site-packages\\numpy\\core\\fromnumeric.py:2389: FutureWarning: Method .ptp is deprecated and will be removed in a future version. Use numpy.ptp instead.\n",
      "  return ptp(axis=axis, out=out, **kwargs)\n"
     ]
    },
    {
     "name": "stdout",
     "output_type": "stream",
     "text": [
      "                            OLS Regression Results                            \n",
      "==============================================================================\n",
      "Dep. Variable:          pass_all_perc   R-squared:                       0.598\n",
      "Model:                            OLS   Adj. R-squared:                  0.556\n",
      "Method:                 Least Squares   F-statistic:                     14.26\n",
      "Date:                Sat, 25 Apr 2020   Prob (F-statistic):           3.47e-11\n",
      "Time:                        15:19:20   Log-Likelihood:                -149.23\n",
      "No. Observations:                  75   AIC:                             314.5\n",
      "Df Residuals:                      67   BIC:                             333.0\n",
      "Df Model:                           7                                         \n",
      "Covariance Type:            nonrobust                                         \n",
      "=================================================================================\n",
      "                    coef    std err          t      P>|t|      [0.025      0.975]\n",
      "---------------------------------------------------------------------------------\n",
      "const            77.8762      2.701     28.833      0.000      72.485      83.267\n",
      "num_sat       -9.617e-05      0.000     -0.287      0.775      -0.001       0.001\n",
      "fail_all         -0.0010      0.004     -0.240      0.811      -0.009       0.007\n",
      "fail_all_perc    -1.6930      0.319     -5.314      0.000      -2.329      -1.057\n",
      "1AB               0.0815      0.035      2.349      0.022       0.012       0.151\n",
      "1C               -0.0006      0.010     -0.059      0.953      -0.021       0.020\n",
      "Type 2            0.0004      0.002      0.224      0.823      -0.003       0.004\n",
      "Type 3           -0.0067      0.005     -1.250      0.216      -0.017       0.004\n",
      "==============================================================================\n",
      "Omnibus:                        1.119   Durbin-Watson:                   1.485\n",
      "Prob(Omnibus):                  0.571   Jarque-Bera (JB):                1.161\n",
      "Skew:                          -0.274   Prob(JB):                        0.560\n",
      "Kurtosis:                       2.733   Cond. No.                     1.32e+05\n",
      "==============================================================================\n",
      "\n",
      "Warnings:\n",
      "[1] Standard Errors assume that the covariance matrix of the errors is correctly specified.\n",
      "[2] The condition number is large, 1.32e+05. This might indicate that there are\n",
      "strong multicollinearity or other numerical problems.\n"
     ]
    }
   ],
   "source": [
    "x1_new = sm.add_constant(x1)\n",
    "est = sm.OLS(y1, x1_new)\n",
    "est2 = est.fit()\n",
    "print(est2.summary())"
   ]
  },
  {
   "cell_type": "code",
   "execution_count": null,
   "metadata": {},
   "outputs": [],
   "source": []
  }
 ],
 "metadata": {
  "kernelspec": {
   "display_name": "Python 3",
   "language": "python",
   "name": "python3"
  },
  "language_info": {
   "codemirror_mode": {
    "name": "ipython",
    "version": 3
   },
   "file_extension": ".py",
   "mimetype": "text/x-python",
   "name": "python",
   "nbconvert_exporter": "python",
   "pygments_lexer": "ipython3",
   "version": "3.7.4"
  }
 },
 "nbformat": 4,
 "nbformat_minor": 2
}
